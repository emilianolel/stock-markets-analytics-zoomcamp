{
 "cells": [
  {
   "cell_type": "markdown",
   "id": "b9672c9c-80db-4857-8023-61ce62eaff3d",
   "metadata": {},
   "source": [
    "# Homework 01"
   ]
  },
  {
   "cell_type": "code",
   "execution_count": 1,
   "id": "0c5793eb-5a26-454d-a4cc-aa29998105b6",
   "metadata": {},
   "outputs": [],
   "source": [
    "# IMPORTS\n",
    "import numpy as np\n",
    "import pandas as pd\n",
    "\n",
    "#Fin Data Sources\n",
    "import yfinance as yf\n",
    "import pandas_datareader as pdr\n",
    "\n",
    "#Data viz\n",
    "import plotly.graph_objs as go\n",
    "import plotly.express as px\n",
    "\n",
    "import time\n",
    "from datetime import date"
   ]
  },
  {
   "cell_type": "markdown",
   "id": "b44b4926-cca8-4c3c-b098-ea88d040bc13",
   "metadata": {},
   "source": [
    "---\n",
    "### Question 1: [Macro] Average growth of GDP in 2023\n",
    "\n",
    "**What is the average growth (in %) of GDP in 2023?**\n",
    "\n",
    "Download the timeseries Real Gross Domestic Product (GDPC1) from FRED (https://fred.stlouisfed.org/series/GDPC1). \n",
    "Calculate year-over-year (YoY) growth rate (that is, divide current value to one 4 quarters ago). Find the average YoY growth in 2023 (average from 4 YoY numbers).\n",
    "Round to 1 digit after the decimal point: e.g. if you get 5.66% growth => you should answer  5.7"
   ]
  },
  {
   "cell_type": "code",
   "execution_count": 17,
   "id": "8dd14736-8d43-4752-927e-3a5286b03b4d",
   "metadata": {},
   "outputs": [
    {
     "name": "stdout",
     "output_type": "stream",
     "text": [
      "Year = 2024; month= 4; day=20\n",
      "Period for indexes: 1954-04-20 to 2024-04-20 \n"
     ]
    }
   ],
   "source": [
    "# first, select the appropiate date interval\n",
    "\n",
    "end = date.today()\n",
    "print(f'Year = {end.year}; month= {end.month}; day={end.day}')\n",
    "\n",
    "start = date(year=end.year-70, month=end.month, day=end.day)\n",
    "\n",
    "print(f'Period for indexes: {start} to {end} ')"
   ]
  },
  {
   "cell_type": "code",
   "execution_count": 24,
   "id": "7dcfaac1-cdc5-4912-b0f4-14f721688d4d",
   "metadata": {},
   "outputs": [
    {
     "data": {
      "text/html": [
       "<div>\n",
       "<style scoped>\n",
       "    .dataframe tbody tr th:only-of-type {\n",
       "        vertical-align: middle;\n",
       "    }\n",
       "\n",
       "    .dataframe tbody tr th {\n",
       "        vertical-align: top;\n",
       "    }\n",
       "\n",
       "    .dataframe thead th {\n",
       "        text-align: right;\n",
       "    }\n",
       "</style>\n",
       "<table border=\"1\" class=\"dataframe\">\n",
       "  <thead>\n",
       "    <tr style=\"text-align: right;\">\n",
       "      <th></th>\n",
       "      <th>GDPC1</th>\n",
       "    </tr>\n",
       "    <tr>\n",
       "      <th>DATE</th>\n",
       "      <th></th>\n",
       "    </tr>\n",
       "  </thead>\n",
       "  <tbody>\n",
       "    <tr>\n",
       "      <th>1954-07-01</th>\n",
       "      <td>2880.482</td>\n",
       "    </tr>\n",
       "    <tr>\n",
       "      <th>1954-10-01</th>\n",
       "      <td>2936.852</td>\n",
       "    </tr>\n",
       "    <tr>\n",
       "      <th>1955-01-01</th>\n",
       "      <td>3020.746</td>\n",
       "    </tr>\n",
       "    <tr>\n",
       "      <th>1955-04-01</th>\n",
       "      <td>3069.910</td>\n",
       "    </tr>\n",
       "    <tr>\n",
       "      <th>1955-07-01</th>\n",
       "      <td>3111.379</td>\n",
       "    </tr>\n",
       "    <tr>\n",
       "      <th>...</th>\n",
       "      <td>...</td>\n",
       "    </tr>\n",
       "    <tr>\n",
       "      <th>2022-10-01</th>\n",
       "      <td>21989.981</td>\n",
       "    </tr>\n",
       "    <tr>\n",
       "      <th>2023-01-01</th>\n",
       "      <td>22112.329</td>\n",
       "    </tr>\n",
       "    <tr>\n",
       "      <th>2023-04-01</th>\n",
       "      <td>22225.350</td>\n",
       "    </tr>\n",
       "    <tr>\n",
       "      <th>2023-07-01</th>\n",
       "      <td>22490.692</td>\n",
       "    </tr>\n",
       "    <tr>\n",
       "      <th>2023-10-01</th>\n",
       "      <td>22679.255</td>\n",
       "    </tr>\n",
       "  </tbody>\n",
       "</table>\n",
       "<p>278 rows × 1 columns</p>\n",
       "</div>"
      ],
      "text/plain": [
       "                GDPC1\n",
       "DATE                 \n",
       "1954-07-01   2880.482\n",
       "1954-10-01   2936.852\n",
       "1955-01-01   3020.746\n",
       "1955-04-01   3069.910\n",
       "1955-07-01   3111.379\n",
       "...               ...\n",
       "2022-10-01  21989.981\n",
       "2023-01-01  22112.329\n",
       "2023-04-01  22225.350\n",
       "2023-07-01  22490.692\n",
       "2023-10-01  22679.255\n",
       "\n",
       "[278 rows x 1 columns]"
      ]
     },
     "execution_count": 24,
     "metadata": {},
     "output_type": "execute_result"
    }
   ],
   "source": [
    "gdpc1 = pdr.DataReader(\"GDPC1\", \"fred\", start=start)\n",
    "gdpc1"
   ]
  },
  {
   "cell_type": "code",
   "execution_count": 30,
   "id": "4b079100-5e17-4228-afc1-4e05e8bf4c9c",
   "metadata": {},
   "outputs": [
    {
     "data": {
      "text/html": [
       "<div>\n",
       "<style scoped>\n",
       "    .dataframe tbody tr th:only-of-type {\n",
       "        vertical-align: middle;\n",
       "    }\n",
       "\n",
       "    .dataframe tbody tr th {\n",
       "        vertical-align: top;\n",
       "    }\n",
       "\n",
       "    .dataframe thead th {\n",
       "        text-align: right;\n",
       "    }\n",
       "</style>\n",
       "<table border=\"1\" class=\"dataframe\">\n",
       "  <thead>\n",
       "    <tr style=\"text-align: right;\">\n",
       "      <th></th>\n",
       "      <th>GDPC1</th>\n",
       "      <th>gdpc1_us_yoy</th>\n",
       "    </tr>\n",
       "    <tr>\n",
       "      <th>DATE</th>\n",
       "      <th></th>\n",
       "      <th></th>\n",
       "    </tr>\n",
       "  </thead>\n",
       "  <tbody>\n",
       "    <tr>\n",
       "      <th>2022-10-01</th>\n",
       "      <td>21989.981</td>\n",
       "      <td>0.006517</td>\n",
       "    </tr>\n",
       "    <tr>\n",
       "      <th>2023-01-01</th>\n",
       "      <td>22112.329</td>\n",
       "      <td>0.017179</td>\n",
       "    </tr>\n",
       "    <tr>\n",
       "      <th>2023-04-01</th>\n",
       "      <td>22225.350</td>\n",
       "      <td>0.023825</td>\n",
       "    </tr>\n",
       "    <tr>\n",
       "      <th>2023-07-01</th>\n",
       "      <td>22490.692</td>\n",
       "      <td>0.029269</td>\n",
       "    </tr>\n",
       "    <tr>\n",
       "      <th>2023-10-01</th>\n",
       "      <td>22679.255</td>\n",
       "      <td>0.031345</td>\n",
       "    </tr>\n",
       "  </tbody>\n",
       "</table>\n",
       "</div>"
      ],
      "text/plain": [
       "                GDPC1  gdpc1_us_yoy\n",
       "DATE                               \n",
       "2022-10-01  21989.981      0.006517\n",
       "2023-01-01  22112.329      0.017179\n",
       "2023-04-01  22225.350      0.023825\n",
       "2023-07-01  22490.692      0.029269\n",
       "2023-10-01  22679.255      0.031345"
      ]
     },
     "execution_count": 30,
     "metadata": {},
     "output_type": "execute_result"
    }
   ],
   "source": [
    "gdpc1['gdpc1_us_yoy'] = gdpc1.GDPC1 / gdpc1.GDPC1.shift(4) - 1\n",
    "gdpc1.tail()"
   ]
  },
  {
   "cell_type": "code",
   "execution_count": 36,
   "id": "d9bc3947-6381-403d-8a63-a3d4016c3488",
   "metadata": {},
   "outputs": [
    {
     "data": {
      "text/html": [
       "<div>\n",
       "<style scoped>\n",
       "    .dataframe tbody tr th:only-of-type {\n",
       "        vertical-align: middle;\n",
       "    }\n",
       "\n",
       "    .dataframe tbody tr th {\n",
       "        vertical-align: top;\n",
       "    }\n",
       "\n",
       "    .dataframe thead th {\n",
       "        text-align: right;\n",
       "    }\n",
       "</style>\n",
       "<table border=\"1\" class=\"dataframe\">\n",
       "  <thead>\n",
       "    <tr style=\"text-align: right;\">\n",
       "      <th></th>\n",
       "      <th>GDPC1</th>\n",
       "      <th>gdpc1_us_yoy</th>\n",
       "    </tr>\n",
       "    <tr>\n",
       "      <th>DATE</th>\n",
       "      <th></th>\n",
       "      <th></th>\n",
       "    </tr>\n",
       "  </thead>\n",
       "  <tbody>\n",
       "    <tr>\n",
       "      <th>2023-01-01</th>\n",
       "      <td>22112.329</td>\n",
       "      <td>0.017179</td>\n",
       "    </tr>\n",
       "    <tr>\n",
       "      <th>2023-04-01</th>\n",
       "      <td>22225.350</td>\n",
       "      <td>0.023825</td>\n",
       "    </tr>\n",
       "    <tr>\n",
       "      <th>2023-07-01</th>\n",
       "      <td>22490.692</td>\n",
       "      <td>0.029269</td>\n",
       "    </tr>\n",
       "    <tr>\n",
       "      <th>2023-10-01</th>\n",
       "      <td>22679.255</td>\n",
       "      <td>0.031345</td>\n",
       "    </tr>\n",
       "  </tbody>\n",
       "</table>\n",
       "</div>"
      ],
      "text/plain": [
       "                GDPC1  gdpc1_us_yoy\n",
       "DATE                               \n",
       "2023-01-01  22112.329      0.017179\n",
       "2023-04-01  22225.350      0.023825\n",
       "2023-07-01  22490.692      0.029269\n",
       "2023-10-01  22679.255      0.031345"
      ]
     },
     "execution_count": 36,
     "metadata": {},
     "output_type": "execute_result"
    }
   ],
   "source": [
    "gdpc1.loc['2023-01-01':'2023-12-31']"
   ]
  },
  {
   "cell_type": "code",
   "execution_count": 35,
   "id": "1e3297c3-bbdd-4b10-907a-ce7ade68b21d",
   "metadata": {},
   "outputs": [
    {
     "data": {
      "text/plain": [
       "2.5404433928676253"
      ]
     },
     "execution_count": 35,
     "metadata": {},
     "output_type": "execute_result"
    }
   ],
   "source": [
    "gdpc1.loc['2023-01-01':'2023-12-31', 'gdpc1_us_yoy'].mean() * 100"
   ]
  },
  {
   "cell_type": "markdown",
   "id": "baf5f0c4-9372-46d9-90f5-2eaaf7a4c853",
   "metadata": {},
   "source": [
    "---\n",
    "### Question 2. [Macro] Inverse \"Treasury Yield\"\n",
    "\n",
    "**Find the min value of (dgs10-dgs2) after since year 2000 (2000-01-01) and write it down as an answer, round to 1 digit after the decimal point.**\n",
    "\n",
    "\n",
    "Download DGS2 and DGS10 interest rates series (https://fred.stlouisfed.org/series/DGS2,\n",
    " https://fred.stlouisfed.org/series/DGS10). Join them together to one dataframe on date (you might need to read about pandas.DataFrame.join()), calculate the difference dgs10-dgs2 daily.\n",
    "\n",
    "(Additional: think about what does the \"inverted yield curve\" mean for the market and investors? do you see the same thing in your country/market of interest? Do you think it can be a good predictive feature for the models?)"
   ]
  },
  {
   "cell_type": "code",
   "execution_count": 38,
   "id": "f125408d-7800-4f3e-99a7-a8d8ad6048cf",
   "metadata": {},
   "outputs": [],
   "source": [
    "dgs10 = pdr.DataReader(\"DGS10\", \"fred\", start=start)\n",
    "dgs2 = pdr.DataReader(\"DGS2\", \"fred\", start=start)"
   ]
  },
  {
   "cell_type": "code",
   "execution_count": 40,
   "id": "ad101eac-10ad-46c0-9958-8de694d76c9b",
   "metadata": {},
   "outputs": [
    {
     "data": {
      "text/html": [
       "<div>\n",
       "<style scoped>\n",
       "    .dataframe tbody tr th:only-of-type {\n",
       "        vertical-align: middle;\n",
       "    }\n",
       "\n",
       "    .dataframe tbody tr th {\n",
       "        vertical-align: top;\n",
       "    }\n",
       "\n",
       "    .dataframe thead th {\n",
       "        text-align: right;\n",
       "    }\n",
       "</style>\n",
       "<table border=\"1\" class=\"dataframe\">\n",
       "  <thead>\n",
       "    <tr style=\"text-align: right;\">\n",
       "      <th></th>\n",
       "      <th>DGS10</th>\n",
       "    </tr>\n",
       "    <tr>\n",
       "      <th>DATE</th>\n",
       "      <th></th>\n",
       "    </tr>\n",
       "  </thead>\n",
       "  <tbody>\n",
       "    <tr>\n",
       "      <th>2024-04-12</th>\n",
       "      <td>4.50</td>\n",
       "    </tr>\n",
       "    <tr>\n",
       "      <th>2024-04-15</th>\n",
       "      <td>4.63</td>\n",
       "    </tr>\n",
       "    <tr>\n",
       "      <th>2024-04-16</th>\n",
       "      <td>4.67</td>\n",
       "    </tr>\n",
       "    <tr>\n",
       "      <th>2024-04-17</th>\n",
       "      <td>4.59</td>\n",
       "    </tr>\n",
       "    <tr>\n",
       "      <th>2024-04-18</th>\n",
       "      <td>4.64</td>\n",
       "    </tr>\n",
       "  </tbody>\n",
       "</table>\n",
       "</div>"
      ],
      "text/plain": [
       "            DGS10\n",
       "DATE             \n",
       "2024-04-12   4.50\n",
       "2024-04-15   4.63\n",
       "2024-04-16   4.67\n",
       "2024-04-17   4.59\n",
       "2024-04-18   4.64"
      ]
     },
     "execution_count": 40,
     "metadata": {},
     "output_type": "execute_result"
    }
   ],
   "source": [
    "dgs10.tail()"
   ]
  },
  {
   "cell_type": "code",
   "execution_count": 41,
   "id": "21bbf391-fafe-4e61-9531-7e1628b244b3",
   "metadata": {},
   "outputs": [
    {
     "data": {
      "text/html": [
       "<div>\n",
       "<style scoped>\n",
       "    .dataframe tbody tr th:only-of-type {\n",
       "        vertical-align: middle;\n",
       "    }\n",
       "\n",
       "    .dataframe tbody tr th {\n",
       "        vertical-align: top;\n",
       "    }\n",
       "\n",
       "    .dataframe thead th {\n",
       "        text-align: right;\n",
       "    }\n",
       "</style>\n",
       "<table border=\"1\" class=\"dataframe\">\n",
       "  <thead>\n",
       "    <tr style=\"text-align: right;\">\n",
       "      <th></th>\n",
       "      <th>DGS2</th>\n",
       "    </tr>\n",
       "    <tr>\n",
       "      <th>DATE</th>\n",
       "      <th></th>\n",
       "    </tr>\n",
       "  </thead>\n",
       "  <tbody>\n",
       "    <tr>\n",
       "      <th>2024-04-12</th>\n",
       "      <td>4.88</td>\n",
       "    </tr>\n",
       "    <tr>\n",
       "      <th>2024-04-15</th>\n",
       "      <td>4.93</td>\n",
       "    </tr>\n",
       "    <tr>\n",
       "      <th>2024-04-16</th>\n",
       "      <td>4.97</td>\n",
       "    </tr>\n",
       "    <tr>\n",
       "      <th>2024-04-17</th>\n",
       "      <td>4.93</td>\n",
       "    </tr>\n",
       "    <tr>\n",
       "      <th>2024-04-18</th>\n",
       "      <td>4.98</td>\n",
       "    </tr>\n",
       "  </tbody>\n",
       "</table>\n",
       "</div>"
      ],
      "text/plain": [
       "            DGS2\n",
       "DATE            \n",
       "2024-04-12  4.88\n",
       "2024-04-15  4.93\n",
       "2024-04-16  4.97\n",
       "2024-04-17  4.93\n",
       "2024-04-18  4.98"
      ]
     },
     "execution_count": 41,
     "metadata": {},
     "output_type": "execute_result"
    }
   ],
   "source": [
    "dgs2.tail()"
   ]
  },
  {
   "cell_type": "code",
   "execution_count": 44,
   "id": "597b1069-418a-4f4a-9e78-a206801196ea",
   "metadata": {},
   "outputs": [],
   "source": [
    "dgs_10_2 = dgs10.join(dgs2)"
   ]
  },
  {
   "cell_type": "code",
   "execution_count": 47,
   "id": "4eb283c1-6da8-4f45-acbc-582e06cc0bc8",
   "metadata": {},
   "outputs": [
    {
     "data": {
      "text/html": [
       "<div>\n",
       "<style scoped>\n",
       "    .dataframe tbody tr th:only-of-type {\n",
       "        vertical-align: middle;\n",
       "    }\n",
       "\n",
       "    .dataframe tbody tr th {\n",
       "        vertical-align: top;\n",
       "    }\n",
       "\n",
       "    .dataframe thead th {\n",
       "        text-align: right;\n",
       "    }\n",
       "</style>\n",
       "<table border=\"1\" class=\"dataframe\">\n",
       "  <thead>\n",
       "    <tr style=\"text-align: right;\">\n",
       "      <th></th>\n",
       "      <th>DGS10</th>\n",
       "      <th>DGS2</th>\n",
       "      <th>ITY</th>\n",
       "    </tr>\n",
       "    <tr>\n",
       "      <th>DATE</th>\n",
       "      <th></th>\n",
       "      <th></th>\n",
       "      <th></th>\n",
       "    </tr>\n",
       "  </thead>\n",
       "  <tbody>\n",
       "    <tr>\n",
       "      <th>2024-04-12</th>\n",
       "      <td>4.50</td>\n",
       "      <td>4.88</td>\n",
       "      <td>-0.38</td>\n",
       "    </tr>\n",
       "    <tr>\n",
       "      <th>2024-04-15</th>\n",
       "      <td>4.63</td>\n",
       "      <td>4.93</td>\n",
       "      <td>-0.30</td>\n",
       "    </tr>\n",
       "    <tr>\n",
       "      <th>2024-04-16</th>\n",
       "      <td>4.67</td>\n",
       "      <td>4.97</td>\n",
       "      <td>-0.30</td>\n",
       "    </tr>\n",
       "    <tr>\n",
       "      <th>2024-04-17</th>\n",
       "      <td>4.59</td>\n",
       "      <td>4.93</td>\n",
       "      <td>-0.34</td>\n",
       "    </tr>\n",
       "    <tr>\n",
       "      <th>2024-04-18</th>\n",
       "      <td>4.64</td>\n",
       "      <td>4.98</td>\n",
       "      <td>-0.34</td>\n",
       "    </tr>\n",
       "  </tbody>\n",
       "</table>\n",
       "</div>"
      ],
      "text/plain": [
       "            DGS10  DGS2   ITY\n",
       "DATE                         \n",
       "2024-04-12   4.50  4.88 -0.38\n",
       "2024-04-15   4.63  4.93 -0.30\n",
       "2024-04-16   4.67  4.97 -0.30\n",
       "2024-04-17   4.59  4.93 -0.34\n",
       "2024-04-18   4.64  4.98 -0.34"
      ]
     },
     "execution_count": 47,
     "metadata": {},
     "output_type": "execute_result"
    }
   ],
   "source": [
    "dgs_10_2['ITY'] = dgs_10_2['DGS10'] - dgs_10_2['DGS2']\n",
    "dgs_10_2.tail()"
   ]
  },
  {
   "cell_type": "code",
   "execution_count": 48,
   "id": "db639f39-032c-491c-b7d3-9f84ba59920f",
   "metadata": {},
   "outputs": [
    {
     "data": {
      "text/plain": [
       "-1.0800000000000005"
      ]
     },
     "execution_count": 48,
     "metadata": {},
     "output_type": "execute_result"
    }
   ],
   "source": [
    "dgs_10_2.loc['2000-01-01':, 'ITY'].min()"
   ]
  },
  {
   "cell_type": "markdown",
   "id": "48d7a733-9546-4ce9-8000-f6b23ad68049",
   "metadata": {},
   "source": [
    "---\n",
    "### Question 3. [Index] Which Index is better recently?\n",
    "\n",
    "**Compare S&P 500 and IPC Mexico indexes by the 5 year growth and write down the largest value as an answer (%)**\n",
    "\n",
    "Download on Yahoo Finance two daily index prices for S&P 500 (^GSPC, https://finance.yahoo.com/quote/%5EGSPC/) and IPC Mexico (^MXX, https://finance.yahoo.com/quote/%5EMXX/). Compare 5Y growth for both (between 2019-04-09 and 2024-04-09). Select the higher growing index and write down the growth in % (closest integer %). E.g. if ratio end/start was 2.0925 (or growth of 109.25%), you need to write down 109 as your answer.\n",
    "\n",
    "(Additional: think of other indexes and try to download stats and compare the growth? Do create 10Y and 20Y growth stats. What is an average yearly growth rate (CAGR) for each of the indexes you select?)"
   ]
  },
  {
   "cell_type": "code",
   "execution_count": 66,
   "id": "8424ef68-be1d-469c-9826-4a058097a9c5",
   "metadata": {},
   "outputs": [
    {
     "name": "stdout",
     "output_type": "stream",
     "text": [
      "Year = 2024; month= 4; day=9\n",
      "Period for indexes: 2019-04-09 to 2024-04-09 \n"
     ]
    }
   ],
   "source": [
    "# first, select the appropiate date interval\n",
    "\n",
    "end = date(year=2024, month=4, day=9)\n",
    "print(f'Year = {end.year}; month= {end.month}; day={end.day}')\n",
    "\n",
    "start = date(year=2019, month=4, day=9)\n",
    "\n",
    "print(f'Period for indexes: {start} to {end} ')"
   ]
  },
  {
   "cell_type": "code",
   "execution_count": 70,
   "id": "fb813d40-9cd3-459c-9f9a-21def5aff21f",
   "metadata": {},
   "outputs": [
    {
     "name": "stderr",
     "output_type": "stream",
     "text": [
      "[*********************100%%**********************]  1 of 1 completed\n",
      "[*********************100%%**********************]  1 of 1 completed\n"
     ]
    },
    {
     "data": {
      "text/html": [
       "<div>\n",
       "<style scoped>\n",
       "    .dataframe tbody tr th:only-of-type {\n",
       "        vertical-align: middle;\n",
       "    }\n",
       "\n",
       "    .dataframe tbody tr th {\n",
       "        vertical-align: top;\n",
       "    }\n",
       "\n",
       "    .dataframe thead th {\n",
       "        text-align: right;\n",
       "    }\n",
       "</style>\n",
       "<table border=\"1\" class=\"dataframe\">\n",
       "  <thead>\n",
       "    <tr style=\"text-align: right;\">\n",
       "      <th></th>\n",
       "      <th>Open</th>\n",
       "      <th>High</th>\n",
       "      <th>Low</th>\n",
       "      <th>Close</th>\n",
       "      <th>Adj Close</th>\n",
       "      <th>Volume</th>\n",
       "    </tr>\n",
       "    <tr>\n",
       "      <th>Date</th>\n",
       "      <th></th>\n",
       "      <th></th>\n",
       "      <th></th>\n",
       "      <th></th>\n",
       "      <th></th>\n",
       "      <th></th>\n",
       "    </tr>\n",
       "  </thead>\n",
       "  <tbody>\n",
       "    <tr>\n",
       "      <th>2024-04-15</th>\n",
       "      <td>5149.669922</td>\n",
       "      <td>5168.430176</td>\n",
       "      <td>5052.470215</td>\n",
       "      <td>5061.819824</td>\n",
       "      <td>5061.819824</td>\n",
       "      <td>3950210000</td>\n",
       "    </tr>\n",
       "    <tr>\n",
       "      <th>2024-04-16</th>\n",
       "      <td>5064.589844</td>\n",
       "      <td>5079.839844</td>\n",
       "      <td>5039.830078</td>\n",
       "      <td>5051.410156</td>\n",
       "      <td>5051.410156</td>\n",
       "      <td>4006200000</td>\n",
       "    </tr>\n",
       "    <tr>\n",
       "      <th>2024-04-17</th>\n",
       "      <td>5068.970215</td>\n",
       "      <td>5077.959961</td>\n",
       "      <td>5007.250000</td>\n",
       "      <td>5022.209961</td>\n",
       "      <td>5022.209961</td>\n",
       "      <td>3596130000</td>\n",
       "    </tr>\n",
       "    <tr>\n",
       "      <th>2024-04-18</th>\n",
       "      <td>5031.520020</td>\n",
       "      <td>5056.660156</td>\n",
       "      <td>5001.890137</td>\n",
       "      <td>5011.120117</td>\n",
       "      <td>5011.120117</td>\n",
       "      <td>3619760000</td>\n",
       "    </tr>\n",
       "    <tr>\n",
       "      <th>2024-04-19</th>\n",
       "      <td>5005.439941</td>\n",
       "      <td>5019.020020</td>\n",
       "      <td>4953.560059</td>\n",
       "      <td>4967.229980</td>\n",
       "      <td>4967.229980</td>\n",
       "      <td>3878750000</td>\n",
       "    </tr>\n",
       "  </tbody>\n",
       "</table>\n",
       "</div>"
      ],
      "text/plain": [
       "                   Open         High          Low        Close    Adj Close  \\\n",
       "Date                                                                          \n",
       "2024-04-15  5149.669922  5168.430176  5052.470215  5061.819824  5061.819824   \n",
       "2024-04-16  5064.589844  5079.839844  5039.830078  5051.410156  5051.410156   \n",
       "2024-04-17  5068.970215  5077.959961  5007.250000  5022.209961  5022.209961   \n",
       "2024-04-18  5031.520020  5056.660156  5001.890137  5011.120117  5011.120117   \n",
       "2024-04-19  5005.439941  5019.020020  4953.560059  4967.229980  4967.229980   \n",
       "\n",
       "                Volume  \n",
       "Date                    \n",
       "2024-04-15  3950210000  \n",
       "2024-04-16  4006200000  \n",
       "2024-04-17  3596130000  \n",
       "2024-04-18  3619760000  \n",
       "2024-04-19  3878750000  "
      ]
     },
     "execution_count": 70,
     "metadata": {},
     "output_type": "execute_result"
    }
   ],
   "source": [
    "sp500 = yf.download(tickers='^GSPC', period='max', interval = \"1d\")\n",
    "ipc = yf.download(tickers='^MXX', period='max', interval = \"1d\")\n",
    "sp500.tail()"
   ]
  },
  {
   "cell_type": "code",
   "execution_count": 80,
   "id": "edf6bed6-74cb-497a-a7c5-49181894fee4",
   "metadata": {},
   "outputs": [
    {
     "data": {
      "text/plain": [
       "80.48728998483689"
      ]
     },
     "execution_count": 80,
     "metadata": {},
     "output_type": "execute_result"
    }
   ],
   "source": [
    "# sp500\n",
    "(sp500.loc['2024-04-09']['Close'] / sp500.loc['2019-04-09']['Open'] - 1) * 100"
   ]
  },
  {
   "cell_type": "code",
   "execution_count": 81,
   "id": "feff417c-6f5f-4f01-b345-330872f4eca4",
   "metadata": {},
   "outputs": [
    {
     "data": {
      "text/plain": [
       "26.957387799656594"
      ]
     },
     "execution_count": 81,
     "metadata": {},
     "output_type": "execute_result"
    }
   ],
   "source": [
    "# ipc\n",
    "(ipc.loc['2024-04-09']['Close'] / ipc.loc['2019-04-09']['Open'] - 1) * 100"
   ]
  },
  {
   "cell_type": "markdown",
   "id": "f613f9c1-3d94-4062-9352-7d03d6d58e11",
   "metadata": {},
   "source": [
    "---\n",
    "### Question 4. [Stocks OHLCV] 52-weeks range ratio (2023) for the selected stocks\n",
    "\n",
    "\n",
    "**Find the largest range ratio [=(max-min)/max] of Adj.Close prices in 2023**\n",
    "\n",
    "\n",
    "Download the 2023 daily OHLCV data on Yahoo Finance for top6 stocks on earnings (https://companiesmarketcap.com/most-profitable-companies/): 2222.SR,BRK-B, AAPL, MSFT, GOOG, JPM.\n",
    "\n",
    "Here is the example data you should see in Pandas for \"2222.SR\": https://finance.yahoo.com/quote/2222.SR/history\n",
    "\n",
    "Calculate maximum-minimim \"Adj.Close\" price for each stock and divide it by the maximum \"Adj.Close\" value.\n",
    "Round the result to two decimal places (e.g. 0.1575 will be 0.16)\n",
    "\n",
    "(Additional: why this may be important for your research?)"
   ]
  },
  {
   "cell_type": "code",
   "execution_count": 90,
   "id": "29b49044-9ac2-44a5-b816-844a6a2a18d2",
   "metadata": {},
   "outputs": [
    {
     "name": "stdout",
     "output_type": "stream",
     "text": [
      "Year = 2023; month= 12; day=31\n",
      "Period for indexes: 2023-01-01 to 2023-12-31 \n"
     ]
    }
   ],
   "source": [
    "# first, select the appropiate date interval\n",
    "\n",
    "end = date(year=2023, month=12, day=31)\n",
    "print(f'Year = {end.year}; month= {end.month}; day={end.day}')\n",
    "\n",
    "start = date(year=2023, month=1, day=1)\n",
    "\n",
    "print(f'Period for indexes: {start} to {end} ')"
   ]
  },
  {
   "cell_type": "code",
   "execution_count": 95,
   "id": "b5d8f997-5d9c-4717-ab61-3d5f3d1a902b",
   "metadata": {},
   "outputs": [
    {
     "name": "stderr",
     "output_type": "stream",
     "text": [
      "[*********************100%%**********************]  1 of 1 completed\n"
     ]
    },
    {
     "name": "stdout",
     "output_type": "stream",
     "text": [
      "52-weeks range ratio 2222.SR: 0.4472140876140603\n"
     ]
    },
    {
     "name": "stderr",
     "output_type": "stream",
     "text": [
      "[*********************100%%**********************]  1 of 1 completed\n"
     ]
    },
    {
     "name": "stdout",
     "output_type": "stream",
     "text": [
      "52-weeks range ratio BRK-B: 0.9522020334191147\n"
     ]
    },
    {
     "name": "stderr",
     "output_type": "stream",
     "text": [
      "[*********************100%%**********************]  1 of 1 completed\n"
     ]
    },
    {
     "name": "stdout",
     "output_type": "stream",
     "text": [
      "52-weeks range ratio AAPL: 0.9998081867070381\n"
     ]
    },
    {
     "name": "stderr",
     "output_type": "stream",
     "text": [
      "[*********************100%%**********************]  1 of 1 completed\n"
     ]
    },
    {
     "name": "stdout",
     "output_type": "stream",
     "text": [
      "52-weeks range ratio MSFT: 0.9998698889358713\n"
     ]
    },
    {
     "name": "stderr",
     "output_type": "stream",
     "text": [
      "[*********************100%%**********************]  1 of 1 completed\n"
     ]
    },
    {
     "name": "stdout",
     "output_type": "stream",
     "text": [
      "52-weeks range ratio GOOG: 0.9845082839835472\n"
     ]
    },
    {
     "name": "stderr",
     "output_type": "stream",
     "text": [
      "[*********************100%%**********************]  1 of 1 completed"
     ]
    },
    {
     "name": "stdout",
     "output_type": "stream",
     "text": [
      "52-weeks range ratio JPM: 0.9946094141860143\n"
     ]
    },
    {
     "name": "stderr",
     "output_type": "stream",
     "text": [
      "\n"
     ]
    }
   ],
   "source": [
    "stocks = ['2222.SR', 'BRK-B', 'AAPL', 'MSFT', 'GOOG', 'JPM']\n",
    "\n",
    "for stock in stocks:\n",
    "    df = yf.download(tickers=stock, period='max', interval = \"1d\")\n",
    "    adj_max = df['Adj Close'].max()\n",
    "    adj_min = df['Adj Close'].min()\n",
    "    year_ratio = (adj_max - adj_min) / adj_max\n",
    "    print(f'52-weeks range ratio {stock}: {year_ratio}')"
   ]
  },
  {
   "cell_type": "markdown",
   "id": "3efa7a49-7458-4116-a506-f5a861c76e1c",
   "metadata": {},
   "source": [
    "---\n",
    "### Question 5. [Stocks] Dividend Yield\n",
    "**Find the largest dividend yield for the same set of stocks**\n",
    "\n",
    "Use the same list of companies (2222.SR,BRK-B, AAPL, MSFT, GOOG, JPM) and download all dividends paid in 2023.\n",
    "You can use `get_actions()` method or `.dividends` field in yfinance library (https://github.com/ranaroussi/yfinance?tab=readme-ov-file#quick-start)\n",
    "\n",
    "Sum up all dividends paid in 2023 per company and divide each value by the closing price (Adj.Close) at the last trading day of the year.\n",
    "\n",
    "Find the maximm value in % and round to 1 digit after the decimal point. (E.g., if you obtained `$1.25` dividends paid and the end year stock price is $100, the dividend yield is 1.25% -- and your answer should be equal to 1.3)"
   ]
  },
  {
   "cell_type": "code",
   "execution_count": 132,
   "id": "2fb507fe-eff0-404d-8890-31be21ff4c40",
   "metadata": {},
   "outputs": [
    {
     "name": "stderr",
     "output_type": "stream",
     "text": [
      "[*********************100%%**********************]  1 of 1 completed\n"
     ]
    },
    {
     "name": "stdout",
     "output_type": "stream",
     "text": [
      "dividend 2222.SR: 2.770149819503256\n"
     ]
    },
    {
     "name": "stderr",
     "output_type": "stream",
     "text": [
      "[*********************100%%**********************]  1 of 1 completed\n"
     ]
    },
    {
     "name": "stdout",
     "output_type": "stream",
     "text": [
      "dividend BRK-B: 0.0\n"
     ]
    },
    {
     "name": "stderr",
     "output_type": "stream",
     "text": [
      "[*********************100%%**********************]  1 of 1 completed\n"
     ]
    },
    {
     "name": "stdout",
     "output_type": "stream",
     "text": [
      "dividend AAPL: 0.49137940083617654\n"
     ]
    },
    {
     "name": "stderr",
     "output_type": "stream",
     "text": [
      "[*********************100%%**********************]  1 of 1 completed\n"
     ]
    },
    {
     "name": "stdout",
     "output_type": "stream",
     "text": [
      "dividend MSFT: 0.7448197381297581\n"
     ]
    },
    {
     "name": "stderr",
     "output_type": "stream",
     "text": [
      "[*********************100%%**********************]  1 of 1 completed\n"
     ]
    },
    {
     "name": "stdout",
     "output_type": "stream",
     "text": [
      "dividend GOOG: 0.0\n"
     ]
    },
    {
     "name": "stderr",
     "output_type": "stream",
     "text": [
      "[*********************100%%**********************]  1 of 1 completed\n"
     ]
    },
    {
     "name": "stdout",
     "output_type": "stream",
     "text": [
      "dividend JPM: 2.406778204024028\n"
     ]
    }
   ],
   "source": [
    "stocks = ['2222.SR', 'BRK-B', 'AAPL', 'MSFT', 'GOOG', 'JPM']\n",
    "\n",
    "for stock in stocks:\n",
    "    try:\n",
    "        df = yf.Ticker(stock)\n",
    "        df_2 = yf.download(tickers=stock, period='max', interval = \"1d\")\n",
    "        \n",
    "        div_sum = df.dividends.loc['2023-01-01':'2023-12-31'].sum()\n",
    "        adj_max = df_2.loc['2023-12-28']['Adj Close']\n",
    "    \n",
    "        div = (div_sum / adj_max) * 100\n",
    "    \n",
    "        print(f'dividend {stock}: {div}')\n",
    "    except:\n",
    "        \n",
    "        print(f'can not retrive {stock} info')"
   ]
  },
  {
   "cell_type": "markdown",
   "id": "3e00d236-4ed7-497f-8863-cd879c53c1cb",
   "metadata": {},
   "source": [
    "---\n",
    "### Question 6. [Exploratory] Investigate new metrics\n",
    "\n",
    "**Free text answer**\n",
    "\n",
    "Download and explore a few additional metrics or time series that might be valuable for your project and write down why (briefly)."
   ]
  },
  {
   "cell_type": "code",
   "execution_count": null,
   "id": "f65180ed-c63f-4754-9715-417d10deb9df",
   "metadata": {},
   "outputs": [],
   "source": []
  },
  {
   "cell_type": "markdown",
   "id": "23d15b06-28b0-42b5-b951-0c2c42da261d",
   "metadata": {},
   "source": [
    "---\n",
    "### Question 7. [Exploratory] Time-driven strategy description around earnings releases\n",
    "\n",
    "**Free text answer**\n",
    "\n",
    "Explore earning dates for the whole month of April - e.g. using YahooFinance earnings calendar (https://finance.yahoo.com/calendar/earnings?from=2024-04-21&to=2024-04-27&day=2024-04-23). Compare with the previous closed earnings (e.g., recent dates with full data https://finance.yahoo.com/calendar/earnings?from=2024-04-07&to=2024-04-13&day=2024-04-08). \n",
    "\n",
    "Describe an analytical strategy/idea (you're not required to implement it) to select a subset companies of interest based on the future events data."
   ]
  },
  {
   "cell_type": "code",
   "execution_count": null,
   "id": "1d424fa1-269f-4cdb-b378-6846f222732e",
   "metadata": {},
   "outputs": [],
   "source": []
  }
 ],
 "metadata": {
  "kernelspec": {
   "display_name": "Python 3 (ipykernel)",
   "language": "python",
   "name": "python3"
  },
  "language_info": {
   "codemirror_mode": {
    "name": "ipython",
    "version": 3
   },
   "file_extension": ".py",
   "mimetype": "text/x-python",
   "name": "python",
   "nbconvert_exporter": "python",
   "pygments_lexer": "ipython3",
   "version": "3.11.9"
  }
 },
 "nbformat": 4,
 "nbformat_minor": 5
}
