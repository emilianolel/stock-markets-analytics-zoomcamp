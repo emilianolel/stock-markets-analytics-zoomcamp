{
 "cells": [
  {
   "cell_type": "code",
   "execution_count": 2,
   "id": "445c73e9-4c9c-4a8b-8293-c414065c1ae7",
   "metadata": {},
   "outputs": [],
   "source": [
    "from io import StringIO \n",
    "import pandas as pd\n",
    "import requests\n",
    "\n",
    "pd.set_option('display.max_rows', None)\n",
    "pd.set_option('display.max_columns', None)\n",
    "pd.set_option('display.width', None)"
   ]
  },
  {
   "cell_type": "code",
   "execution_count": 3,
   "id": "5ddc51cf-12bd-4cd0-b48e-deb52a2d9657",
   "metadata": {},
   "outputs": [],
   "source": [
    "headers = {\n",
    "    'User-Agent': 'Mozilla/5.0 (Windows NT 10.0; Win64; x64) AppleWebKit/537.36 (KHTML, like Gecko) Chrome/58.0.3029.110 Safari/537.3',\n",
    "}\n",
    "\n",
    "url = \"https://stockanalysis.com/ipos/filings/\"\n",
    "response = requests.get(url, headers=headers)\n",
    "\n",
    "ipo_filings = pd.read_html(StringIO(response.text))"
   ]
  },
  {
   "cell_type": "code",
   "execution_count": 4,
   "id": "7d248800-5423-4391-9ce1-6a9ced965bce",
   "metadata": {},
   "outputs": [
    {
     "name": "stdout",
     "output_type": "stream",
     "text": [
      "<class 'pandas.core.frame.DataFrame'>\n",
      "RangeIndex: 329 entries, 0 to 328\n",
      "Data columns (total 5 columns):\n",
      " #   Column          Non-Null Count  Dtype \n",
      "---  ------          --------------  ----- \n",
      " 0   Filing Date     329 non-null    object\n",
      " 1   Symbol          329 non-null    object\n",
      " 2   Company Name    329 non-null    object\n",
      " 3   Price Range     329 non-null    object\n",
      " 4   Shares Offered  329 non-null    object\n",
      "dtypes: object(5)\n",
      "memory usage: 13.0+ KB\n"
     ]
    }
   ],
   "source": [
    "ipos_df = ipo_filings[0]\n",
    "ipos_df.info()"
   ]
  },
  {
   "cell_type": "code",
   "execution_count": 5,
   "id": "772a1e8d-1fbd-4bde-88d6-0ac09721387a",
   "metadata": {},
   "outputs": [
    {
     "data": {
      "text/html": [
       "<div>\n",
       "<style scoped>\n",
       "    .dataframe tbody tr th:only-of-type {\n",
       "        vertical-align: middle;\n",
       "    }\n",
       "\n",
       "    .dataframe tbody tr th {\n",
       "        vertical-align: top;\n",
       "    }\n",
       "\n",
       "    .dataframe thead th {\n",
       "        text-align: right;\n",
       "    }\n",
       "</style>\n",
       "<table border=\"1\" class=\"dataframe\">\n",
       "  <thead>\n",
       "    <tr style=\"text-align: right;\">\n",
       "      <th></th>\n",
       "      <th>Filing Date</th>\n",
       "      <th>Symbol</th>\n",
       "      <th>Company Name</th>\n",
       "      <th>Price Range</th>\n",
       "      <th>Shares Offered</th>\n",
       "    </tr>\n",
       "  </thead>\n",
       "  <tbody>\n",
       "    <tr>\n",
       "      <th>0</th>\n",
       "      <td>Apr 26, 2024</td>\n",
       "      <td>EURK</td>\n",
       "      <td>Eureka Acquisition Corp</td>\n",
       "      <td>$10.00</td>\n",
       "      <td>5000000</td>\n",
       "    </tr>\n",
       "    <tr>\n",
       "      <th>1</th>\n",
       "      <td>Apr 26, 2024</td>\n",
       "      <td>HDL</td>\n",
       "      <td>Super Hi International Holding Ltd.</td>\n",
       "      <td>-</td>\n",
       "      <td>-</td>\n",
       "    </tr>\n",
       "    <tr>\n",
       "      <th>2</th>\n",
       "      <td>Apr 22, 2024</td>\n",
       "      <td>DRJT</td>\n",
       "      <td>Derun Group Inc</td>\n",
       "      <td>$5.00</td>\n",
       "      <td>-</td>\n",
       "    </tr>\n",
       "    <tr>\n",
       "      <th>3</th>\n",
       "      <td>Apr 19, 2024</td>\n",
       "      <td>GPAT</td>\n",
       "      <td>GP-Act III Acquisition Corp.</td>\n",
       "      <td>$10.00</td>\n",
       "      <td>25000000</td>\n",
       "    </tr>\n",
       "    <tr>\n",
       "      <th>4</th>\n",
       "      <td>Apr 16, 2024</td>\n",
       "      <td>JLJT</td>\n",
       "      <td>Jialiang Holdings Ltd</td>\n",
       "      <td>$5.00</td>\n",
       "      <td>-</td>\n",
       "    </tr>\n",
       "  </tbody>\n",
       "</table>\n",
       "</div>"
      ],
      "text/plain": [
       "    Filing Date Symbol                         Company Name Price Range  \\\n",
       "0  Apr 26, 2024   EURK              Eureka Acquisition Corp      $10.00   \n",
       "1  Apr 26, 2024    HDL  Super Hi International Holding Ltd.           -   \n",
       "2  Apr 22, 2024   DRJT                      Derun Group Inc       $5.00   \n",
       "3  Apr 19, 2024   GPAT         GP-Act III Acquisition Corp.      $10.00   \n",
       "4  Apr 16, 2024   JLJT                Jialiang Holdings Ltd       $5.00   \n",
       "\n",
       "  Shares Offered  \n",
       "0        5000000  \n",
       "1              -  \n",
       "2              -  \n",
       "3       25000000  \n",
       "4              -  "
      ]
     },
     "execution_count": 5,
     "metadata": {},
     "output_type": "execute_result"
    }
   ],
   "source": [
    "ipos_df.head()"
   ]
  },
  {
   "cell_type": "code",
   "execution_count": 6,
   "id": "8dc48fdb-2d63-4f7c-bba5-0cc8be7dd0fb",
   "metadata": {},
   "outputs": [],
   "source": [
    "# get date\n",
    "ipos_df['Filing Date'] = pd.to_datetime(ipos_df['Filing Date'])"
   ]
  },
  {
   "cell_type": "code",
   "execution_count": 7,
   "id": "b7d4559c-f051-4970-a722-1160ca1fa901",
   "metadata": {},
   "outputs": [],
   "source": [
    "ipos_df['Shares Offered'] = pd.to_numeric(ipos_df['Shares Offered'].astype(str).str.replace('-', ''))"
   ]
  },
  {
   "cell_type": "code",
   "execution_count": 8,
   "id": "f95cdffa-5365-44a4-b825-1107df782ec0",
   "metadata": {},
   "outputs": [],
   "source": [
    "ipos_df['Price Range'] = ipos_df['Price Range'].astype(str).str.replace('$', '').str.replace('-', '')"
   ]
  },
  {
   "cell_type": "code",
   "execution_count": 9,
   "id": "f8969fdd-92ec-42db-aa49-e72cb6ec85c8",
   "metadata": {},
   "outputs": [],
   "source": [
    "def get_number_avg(string_range):\n",
    "    numeric_range = [float(number) for number in string_range.split()]\n",
    "    not_nubmer = len(numeric_range) < 1 \n",
    "    if not_nubmer:\n",
    "        return ''\n",
    "    return sum(numeric_range) / len(numeric_range)"
   ]
  },
  {
   "cell_type": "code",
   "execution_count": 10,
   "id": "05865b17-cc72-4cb4-b377-ca22bea3ce59",
   "metadata": {},
   "outputs": [],
   "source": [
    "ipos_df['Avg_price'] = pd.to_numeric(ipos_df['Price Range'].map(get_number_avg))"
   ]
  },
  {
   "cell_type": "code",
   "execution_count": 11,
   "id": "938dc488-147b-43af-bec4-5269ff84cade",
   "metadata": {},
   "outputs": [],
   "source": [
    "ipos_df['Shares_offered_value'] = ipos_df['Shares Offered'] * ipos_df['Avg_price'] "
   ]
  },
  {
   "cell_type": "code",
   "execution_count": 12,
   "id": "2753d4a4-644a-4ef0-bd57-0d04d4ca52d6",
   "metadata": {},
   "outputs": [],
   "source": [
    "ipos_filtered = ipos_df[(ipos_df['Filing Date'] > '2023-01-01') & (ipos_df['Filing Date'] < '2023-12-31') & (ipos_df['Filing Date'].dt.dayofweek == 4)]"
   ]
  },
  {
   "cell_type": "code",
   "execution_count": 13,
   "id": "455b2682-5d7b-4c3a-8eb6-621462fd903f",
   "metadata": {},
   "outputs": [
    {
     "data": {
      "text/html": [
       "<div>\n",
       "<style scoped>\n",
       "    .dataframe tbody tr th:only-of-type {\n",
       "        vertical-align: middle;\n",
       "    }\n",
       "\n",
       "    .dataframe tbody tr th {\n",
       "        vertical-align: top;\n",
       "    }\n",
       "\n",
       "    .dataframe thead th {\n",
       "        text-align: right;\n",
       "    }\n",
       "</style>\n",
       "<table border=\"1\" class=\"dataframe\">\n",
       "  <thead>\n",
       "    <tr style=\"text-align: right;\">\n",
       "      <th></th>\n",
       "      <th>Filing Date</th>\n",
       "      <th>Symbol</th>\n",
       "      <th>Company Name</th>\n",
       "      <th>Price Range</th>\n",
       "      <th>Shares Offered</th>\n",
       "      <th>Avg_price</th>\n",
       "      <th>Shares_offered_value</th>\n",
       "    </tr>\n",
       "  </thead>\n",
       "  <tbody>\n",
       "    <tr>\n",
       "      <th>52</th>\n",
       "      <td>2023-12-29</td>\n",
       "      <td>LEC</td>\n",
       "      <td>Lafayette Energy Corp</td>\n",
       "      <td>3.50  4.50</td>\n",
       "      <td>1200000.0</td>\n",
       "      <td>4.0</td>\n",
       "      <td>4800000.0</td>\n",
       "    </tr>\n",
       "    <tr>\n",
       "      <th>53</th>\n",
       "      <td>2023-12-29</td>\n",
       "      <td>EPSM</td>\n",
       "      <td>Epsium Enterprise Limited</td>\n",
       "      <td></td>\n",
       "      <td>NaN</td>\n",
       "      <td>NaN</td>\n",
       "      <td>NaN</td>\n",
       "    </tr>\n",
       "    <tr>\n",
       "      <th>56</th>\n",
       "      <td>2023-12-22</td>\n",
       "      <td>LZMH</td>\n",
       "      <td>LZ Technology Holdings Limited</td>\n",
       "      <td></td>\n",
       "      <td>NaN</td>\n",
       "      <td>NaN</td>\n",
       "      <td>NaN</td>\n",
       "    </tr>\n",
       "    <tr>\n",
       "      <th>57</th>\n",
       "      <td>2023-12-22</td>\n",
       "      <td>CHLW</td>\n",
       "      <td>Chun Hui Le Wan International Holding Group Ltd</td>\n",
       "      <td></td>\n",
       "      <td>NaN</td>\n",
       "      <td>NaN</td>\n",
       "      <td>NaN</td>\n",
       "    </tr>\n",
       "    <tr>\n",
       "      <th>62</th>\n",
       "      <td>2023-12-15</td>\n",
       "      <td>GIT</td>\n",
       "      <td>Going International Holding Company Limited</td>\n",
       "      <td></td>\n",
       "      <td>NaN</td>\n",
       "      <td>NaN</td>\n",
       "      <td>NaN</td>\n",
       "    </tr>\n",
       "  </tbody>\n",
       "</table>\n",
       "</div>"
      ],
      "text/plain": [
       "   Filing Date Symbol                                     Company Name  \\\n",
       "52  2023-12-29    LEC                            Lafayette Energy Corp   \n",
       "53  2023-12-29   EPSM                        Epsium Enterprise Limited   \n",
       "56  2023-12-22   LZMH                   LZ Technology Holdings Limited   \n",
       "57  2023-12-22   CHLW  Chun Hui Le Wan International Holding Group Ltd   \n",
       "62  2023-12-15    GIT      Going International Holding Company Limited   \n",
       "\n",
       "   Price Range  Shares Offered  Avg_price  Shares_offered_value  \n",
       "52  3.50  4.50       1200000.0        4.0             4800000.0  \n",
       "53                         NaN        NaN                   NaN  \n",
       "56                         NaN        NaN                   NaN  \n",
       "57                         NaN        NaN                   NaN  \n",
       "62                         NaN        NaN                   NaN  "
      ]
     },
     "execution_count": 13,
     "metadata": {},
     "output_type": "execute_result"
    }
   ],
   "source": [
    "ipos_filtered.head()"
   ]
  },
  {
   "cell_type": "code",
   "execution_count": 14,
   "id": "2646ba54-25ea-4bb8-93de-ca69abc5f3ca",
   "metadata": {},
   "outputs": [
    {
     "data": {
      "text/plain": [
       "275950000.0"
      ]
     },
     "execution_count": 14,
     "metadata": {},
     "output_type": "execute_result"
    }
   ],
   "source": [
    "ipos_filtered['Shares_offered_value'].sum()"
   ]
  },
  {
   "cell_type": "code",
   "execution_count": null,
   "id": "a9f112e8-0653-49d8-bcf2-f8debe99075c",
   "metadata": {},
   "outputs": [],
   "source": []
  }
 ],
 "metadata": {
  "kernelspec": {
   "display_name": "Python 3 (ipykernel)",
   "language": "python",
   "name": "python3"
  },
  "language_info": {
   "codemirror_mode": {
    "name": "ipython",
    "version": 3
   },
   "file_extension": ".py",
   "mimetype": "text/x-python",
   "name": "python",
   "nbconvert_exporter": "python",
   "pygments_lexer": "ipython3",
   "version": "3.11.9"
  }
 },
 "nbformat": 4,
 "nbformat_minor": 5
}
